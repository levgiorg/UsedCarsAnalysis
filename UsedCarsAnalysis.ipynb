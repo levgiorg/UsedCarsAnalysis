{
 "cells": [
  {
   "attachments": {},
   "cell_type": "markdown",
   "metadata": {},
   "source": [
    "# Exploratory Data Analysis \n",
    "\n",
    "### by George Levis"
   ]
  },
  {
   "attachments": {},
   "cell_type": "markdown",
   "metadata": {},
   "source": [
    ">This dataset comprises of 380,000 entries of used cars for sale from various online platforms. The data has been downloaded from a comprehensive used car dataset, providing in-depth information about each vehicle's type, age, condition, and more. The full dataset can be found at https://www.kaggle.com/datasets/thedevastator/uncovering-factors-that-affect-used-car-prices\n"
   ]
  },
  {
   "attachments": {},
   "cell_type": "markdown",
   "metadata": {},
   "source": [
    "#### Preliminary Data Wrangling"
   ]
  },
  {
   "cell_type": "code",
   "execution_count": 202,
   "metadata": {},
   "outputs": [],
   "source": [
    "# import necessary libraries\n",
    "import pandas as pd \n",
    "import numpy as np \n",
    "import matplotlib.pyplot as plt \n",
    "from datetime import datetime\n"
   ]
  },
  {
   "cell_type": "code",
   "execution_count": 203,
   "metadata": {},
   "outputs": [
    {
     "data": {
      "text/html": [
       "<div>\n",
       "<style scoped>\n",
       "    .dataframe tbody tr th:only-of-type {\n",
       "        vertical-align: middle;\n",
       "    }\n",
       "\n",
       "    .dataframe tbody tr th {\n",
       "        vertical-align: top;\n",
       "    }\n",
       "\n",
       "    .dataframe thead th {\n",
       "        text-align: right;\n",
       "    }\n",
       "</style>\n",
       "<table border=\"1\" class=\"dataframe\">\n",
       "  <thead>\n",
       "    <tr style=\"text-align: right;\">\n",
       "      <th></th>\n",
       "      <th>dateCrawled</th>\n",
       "      <th>name</th>\n",
       "      <th>seller</th>\n",
       "      <th>offerType</th>\n",
       "      <th>price</th>\n",
       "      <th>abtest</th>\n",
       "      <th>vehicleType</th>\n",
       "      <th>yearOfRegistration</th>\n",
       "      <th>gearbox</th>\n",
       "      <th>powerPS</th>\n",
       "      <th>model</th>\n",
       "      <th>kilometer</th>\n",
       "      <th>monthOfRegistration</th>\n",
       "      <th>fuelType</th>\n",
       "      <th>brand</th>\n",
       "      <th>notRepairedDamage</th>\n",
       "      <th>dateCreated</th>\n",
       "      <th>nrOfPictures</th>\n",
       "      <th>postalCode</th>\n",
       "      <th>lastSeen</th>\n",
       "    </tr>\n",
       "  </thead>\n",
       "  <tbody>\n",
       "    <tr>\n",
       "      <th>0</th>\n",
       "      <td>2016-03-24 11:52:17</td>\n",
       "      <td>Golf_3_1.6</td>\n",
       "      <td>private</td>\n",
       "      <td>Angebot</td>\n",
       "      <td>480</td>\n",
       "      <td>test</td>\n",
       "      <td>NaN</td>\n",
       "      <td>1993</td>\n",
       "      <td>manual</td>\n",
       "      <td>0</td>\n",
       "      <td>golf</td>\n",
       "      <td>150000</td>\n",
       "      <td>0</td>\n",
       "      <td>gasoline</td>\n",
       "      <td>volkswagen</td>\n",
       "      <td>NaN</td>\n",
       "      <td>2016-03-24 00:00:00</td>\n",
       "      <td>0</td>\n",
       "      <td>70435</td>\n",
       "      <td>2016-04-07 03:16:57</td>\n",
       "    </tr>\n",
       "    <tr>\n",
       "      <th>1</th>\n",
       "      <td>2016-03-24 10:58:45</td>\n",
       "      <td>A5_Sportback_2.7_Tdi</td>\n",
       "      <td>private</td>\n",
       "      <td>Angebot</td>\n",
       "      <td>18300</td>\n",
       "      <td>test</td>\n",
       "      <td>coupe</td>\n",
       "      <td>2011</td>\n",
       "      <td>manual</td>\n",
       "      <td>190</td>\n",
       "      <td>NaN</td>\n",
       "      <td>125000</td>\n",
       "      <td>5</td>\n",
       "      <td>diesel</td>\n",
       "      <td>audi</td>\n",
       "      <td>yes</td>\n",
       "      <td>2016-03-24 00:00:00</td>\n",
       "      <td>0</td>\n",
       "      <td>66954</td>\n",
       "      <td>2016-04-07 01:46:50</td>\n",
       "    </tr>\n",
       "    <tr>\n",
       "      <th>2</th>\n",
       "      <td>2016-03-14 12:52:21</td>\n",
       "      <td>Jeep_Grand_Cherokee_\"Overland\"</td>\n",
       "      <td>private</td>\n",
       "      <td>Angebot</td>\n",
       "      <td>9800</td>\n",
       "      <td>test</td>\n",
       "      <td>suv</td>\n",
       "      <td>2004</td>\n",
       "      <td>automatic</td>\n",
       "      <td>163</td>\n",
       "      <td>grand</td>\n",
       "      <td>125000</td>\n",
       "      <td>8</td>\n",
       "      <td>diesel</td>\n",
       "      <td>jeep</td>\n",
       "      <td>NaN</td>\n",
       "      <td>2016-03-14 00:00:00</td>\n",
       "      <td>0</td>\n",
       "      <td>90480</td>\n",
       "      <td>2016-04-05 12:47:46</td>\n",
       "    </tr>\n",
       "    <tr>\n",
       "      <th>3</th>\n",
       "      <td>2016-03-17 16:54:04</td>\n",
       "      <td>GOLF_4_1_4__3TÜRER</td>\n",
       "      <td>private</td>\n",
       "      <td>Angebot</td>\n",
       "      <td>1500</td>\n",
       "      <td>test</td>\n",
       "      <td>small car</td>\n",
       "      <td>2001</td>\n",
       "      <td>manual</td>\n",
       "      <td>75</td>\n",
       "      <td>golf</td>\n",
       "      <td>150000</td>\n",
       "      <td>6</td>\n",
       "      <td>gasoline</td>\n",
       "      <td>volkswagen</td>\n",
       "      <td>no</td>\n",
       "      <td>2016-03-17 00:00:00</td>\n",
       "      <td>0</td>\n",
       "      <td>91074</td>\n",
       "      <td>2016-03-17 17:40:17</td>\n",
       "    </tr>\n",
       "    <tr>\n",
       "      <th>4</th>\n",
       "      <td>2016-03-31 17:25:20</td>\n",
       "      <td>Skoda_Fabia_1.4_TDI_PD_Classic</td>\n",
       "      <td>private</td>\n",
       "      <td>Angebot</td>\n",
       "      <td>3600</td>\n",
       "      <td>test</td>\n",
       "      <td>small car</td>\n",
       "      <td>2008</td>\n",
       "      <td>manual</td>\n",
       "      <td>69</td>\n",
       "      <td>fabia</td>\n",
       "      <td>90000</td>\n",
       "      <td>7</td>\n",
       "      <td>diesel</td>\n",
       "      <td>skoda</td>\n",
       "      <td>no</td>\n",
       "      <td>2016-03-31 00:00:00</td>\n",
       "      <td>0</td>\n",
       "      <td>60437</td>\n",
       "      <td>2016-04-06 10:17:21</td>\n",
       "    </tr>\n",
       "  </tbody>\n",
       "</table>\n",
       "</div>"
      ],
      "text/plain": [
       "           dateCrawled                            name   seller offerType  \\\n",
       "0  2016-03-24 11:52:17                      Golf_3_1.6  private   Angebot   \n",
       "1  2016-03-24 10:58:45            A5_Sportback_2.7_Tdi  private   Angebot   \n",
       "2  2016-03-14 12:52:21  Jeep_Grand_Cherokee_\"Overland\"  private   Angebot   \n",
       "3  2016-03-17 16:54:04              GOLF_4_1_4__3TÜRER  private   Angebot   \n",
       "4  2016-03-31 17:25:20  Skoda_Fabia_1.4_TDI_PD_Classic  private   Angebot   \n",
       "\n",
       "   price abtest vehicleType  yearOfRegistration    gearbox  powerPS  model  \\\n",
       "0    480   test         NaN                1993     manual        0   golf   \n",
       "1  18300   test       coupe                2011     manual      190    NaN   \n",
       "2   9800   test         suv                2004  automatic      163  grand   \n",
       "3   1500   test   small car                2001     manual       75   golf   \n",
       "4   3600   test   small car                2008     manual       69  fabia   \n",
       "\n",
       "   kilometer  monthOfRegistration  fuelType       brand notRepairedDamage  \\\n",
       "0     150000                    0  gasoline  volkswagen               NaN   \n",
       "1     125000                    5    diesel        audi               yes   \n",
       "2     125000                    8    diesel        jeep               NaN   \n",
       "3     150000                    6  gasoline  volkswagen                no   \n",
       "4      90000                    7    diesel       skoda                no   \n",
       "\n",
       "           dateCreated  nrOfPictures  postalCode             lastSeen  \n",
       "0  2016-03-24 00:00:00             0       70435  2016-04-07 03:16:57  \n",
       "1  2016-03-24 00:00:00             0       66954  2016-04-07 01:46:50  \n",
       "2  2016-03-14 00:00:00             0       90480  2016-04-05 12:47:46  \n",
       "3  2016-03-17 00:00:00             0       91074  2016-03-17 17:40:17  \n",
       "4  2016-03-31 00:00:00             0       60437  2016-04-06 10:17:21  "
      ]
     },
     "execution_count": 203,
     "metadata": {},
     "output_type": "execute_result"
    }
   ],
   "source": [
    "cars_df = pd.read_csv('autos.csv', header = 0)\n",
    "cars_df.head()"
   ]
  },
  {
   "attachments": {},
   "cell_type": "markdown",
   "metadata": {},
   "source": [
    "##### Understanding the Data"
   ]
  },
  {
   "cell_type": "code",
   "execution_count": 204,
   "metadata": {},
   "outputs": [
    {
     "name": "stdout",
     "output_type": "stream",
     "text": [
      "rows:  371528\n",
      "columns:  371528\n"
     ]
    }
   ],
   "source": [
    "#get the shape about the dataframe\n",
    "print(\"rows: \", cars_df.shape[0]) \n",
    "print(\"columns: \", cars_df.shape[0])"
   ]
  },
  {
   "cell_type": "code",
   "execution_count": 205,
   "metadata": {},
   "outputs": [
    {
     "name": "stdout",
     "output_type": "stream",
     "text": [
      "<class 'pandas.core.frame.DataFrame'>\n",
      "RangeIndex: 371528 entries, 0 to 371527\n",
      "Data columns (total 20 columns):\n",
      " #   Column               Non-Null Count   Dtype \n",
      "---  ------               --------------   ----- \n",
      " 0   dateCrawled          371528 non-null  object\n",
      " 1   name                 371528 non-null  object\n",
      " 2   seller               371528 non-null  object\n",
      " 3   offerType            371528 non-null  object\n",
      " 4   price                371528 non-null  int64 \n",
      " 5   abtest               371528 non-null  object\n",
      " 6   vehicleType          333659 non-null  object\n",
      " 7   yearOfRegistration   371528 non-null  int64 \n",
      " 8   gearbox              351319 non-null  object\n",
      " 9   powerPS              371528 non-null  int64 \n",
      " 10  model                351044 non-null  object\n",
      " 11  kilometer            371528 non-null  int64 \n",
      " 12  monthOfRegistration  371528 non-null  int64 \n",
      " 13  fuelType             338142 non-null  object\n",
      " 14  brand                371528 non-null  object\n",
      " 15  notRepairedDamage    299468 non-null  object\n",
      " 16  dateCreated          371528 non-null  object\n",
      " 17  nrOfPictures         371528 non-null  int64 \n",
      " 18  postalCode           371528 non-null  int64 \n",
      " 19  lastSeen             371528 non-null  object\n",
      "dtypes: int64(7), object(13)\n",
      "memory usage: 56.7+ MB\n",
      "Information about the data:  None\n"
     ]
    }
   ],
   "source": [
    "#get the information about the dataframe\n",
    "print(\"Information about the data: \", cars_df.info()) "
   ]
  },
  {
   "cell_type": "code",
   "execution_count": 206,
   "metadata": {},
   "outputs": [
    {
     "name": "stdout",
     "output_type": "stream",
     "text": [
      "Missing values in the data:  dateCrawled                0\n",
      "name                       0\n",
      "seller                     0\n",
      "offerType                  0\n",
      "price                      0\n",
      "abtest                     0\n",
      "vehicleType            37869\n",
      "yearOfRegistration         0\n",
      "gearbox                20209\n",
      "powerPS                    0\n",
      "model                  20484\n",
      "kilometer                  0\n",
      "monthOfRegistration        0\n",
      "fuelType               33386\n",
      "brand                      0\n",
      "notRepairedDamage      72060\n",
      "dateCreated                0\n",
      "nrOfPictures               0\n",
      "postalCode                 0\n",
      "lastSeen                   0\n",
      "dtype: int64\n"
     ]
    }
   ],
   "source": [
    "#get the sum of null values in each column\n",
    "print(\"Missing values in the data: \", cars_df.isnull().sum()) "
   ]
  },
  {
   "cell_type": "code",
   "execution_count": 207,
   "metadata": {},
   "outputs": [
    {
     "name": "stdout",
     "output_type": "stream",
     "text": [
      "Percentage of missing values in each column:  dateCrawled             0.000000\n",
      "name                    0.000000\n",
      "seller                  0.000000\n",
      "offerType               0.000000\n",
      "price                   0.000000\n",
      "abtest                  0.000000\n",
      "vehicleType            10.192771\n",
      "yearOfRegistration      0.000000\n",
      "gearbox                 5.439429\n",
      "powerPS                 0.000000\n",
      "model                   5.513447\n",
      "kilometer               0.000000\n",
      "monthOfRegistration     0.000000\n",
      "fuelType                8.986133\n",
      "brand                   0.000000\n",
      "notRepairedDamage      19.395577\n",
      "dateCreated             0.000000\n",
      "nrOfPictures            0.000000\n",
      "postalCode              0.000000\n",
      "lastSeen                0.000000\n",
      "dtype: float64\n"
     ]
    }
   ],
   "source": [
    "#percentage of missing values in each column\n",
    "blank_percent = cars_df.isnull().sum() * 100 / len(cars_df)\n",
    "print(\"Percentage of missing values in each column: \", blank_percent)"
   ]
  },
  {
   "cell_type": "code",
   "execution_count": 208,
   "metadata": {},
   "outputs": [
    {
     "name": "stdout",
     "output_type": "stream",
     "text": [
      "Number of duplicate rows:  4\n"
     ]
    }
   ],
   "source": [
    "#check for duplicate rows\n",
    "print(\"Number of duplicate rows: \", cars_df.duplicated().sum())"
   ]
  },
  {
   "cell_type": "code",
   "execution_count": 209,
   "metadata": {},
   "outputs": [
    {
     "name": "stdout",
     "output_type": "stream",
     "text": [
      "Rows with missing values:  0\n"
     ]
    }
   ],
   "source": [
    "#check the rows with missing values\n",
    "print(\"Rows with missing values: \", cars_df.isna().all(axis=1).sum())"
   ]
  },
  {
   "cell_type": "code",
   "execution_count": 210,
   "metadata": {},
   "outputs": [
    {
     "data": {
      "text/html": [
       "<div>\n",
       "<style scoped>\n",
       "    .dataframe tbody tr th:only-of-type {\n",
       "        vertical-align: middle;\n",
       "    }\n",
       "\n",
       "    .dataframe tbody tr th {\n",
       "        vertical-align: top;\n",
       "    }\n",
       "\n",
       "    .dataframe thead th {\n",
       "        text-align: right;\n",
       "    }\n",
       "</style>\n",
       "<table border=\"1\" class=\"dataframe\">\n",
       "  <thead>\n",
       "    <tr style=\"text-align: right;\">\n",
       "      <th></th>\n",
       "      <th>price</th>\n",
       "      <th>yearOfRegistration</th>\n",
       "      <th>powerPS</th>\n",
       "      <th>kilometer</th>\n",
       "      <th>monthOfRegistration</th>\n",
       "      <th>nrOfPictures</th>\n",
       "      <th>postalCode</th>\n",
       "    </tr>\n",
       "  </thead>\n",
       "  <tbody>\n",
       "    <tr>\n",
       "      <th>count</th>\n",
       "      <td>3.715280e+05</td>\n",
       "      <td>371528.000000</td>\n",
       "      <td>371528.000000</td>\n",
       "      <td>371528.000000</td>\n",
       "      <td>371528.000000</td>\n",
       "      <td>371528.0</td>\n",
       "      <td>371528.00000</td>\n",
       "    </tr>\n",
       "    <tr>\n",
       "      <th>mean</th>\n",
       "      <td>1.729514e+04</td>\n",
       "      <td>2004.577997</td>\n",
       "      <td>115.549477</td>\n",
       "      <td>125618.688228</td>\n",
       "      <td>5.734445</td>\n",
       "      <td>0.0</td>\n",
       "      <td>50820.66764</td>\n",
       "    </tr>\n",
       "    <tr>\n",
       "      <th>std</th>\n",
       "      <td>3.587954e+06</td>\n",
       "      <td>92.866598</td>\n",
       "      <td>192.139578</td>\n",
       "      <td>40112.337051</td>\n",
       "      <td>3.712412</td>\n",
       "      <td>0.0</td>\n",
       "      <td>25799.08247</td>\n",
       "    </tr>\n",
       "    <tr>\n",
       "      <th>min</th>\n",
       "      <td>0.000000e+00</td>\n",
       "      <td>1000.000000</td>\n",
       "      <td>0.000000</td>\n",
       "      <td>5000.000000</td>\n",
       "      <td>0.000000</td>\n",
       "      <td>0.0</td>\n",
       "      <td>1067.00000</td>\n",
       "    </tr>\n",
       "    <tr>\n",
       "      <th>25%</th>\n",
       "      <td>1.150000e+03</td>\n",
       "      <td>1999.000000</td>\n",
       "      <td>70.000000</td>\n",
       "      <td>125000.000000</td>\n",
       "      <td>3.000000</td>\n",
       "      <td>0.0</td>\n",
       "      <td>30459.00000</td>\n",
       "    </tr>\n",
       "    <tr>\n",
       "      <th>50%</th>\n",
       "      <td>2.950000e+03</td>\n",
       "      <td>2003.000000</td>\n",
       "      <td>105.000000</td>\n",
       "      <td>150000.000000</td>\n",
       "      <td>6.000000</td>\n",
       "      <td>0.0</td>\n",
       "      <td>49610.00000</td>\n",
       "    </tr>\n",
       "    <tr>\n",
       "      <th>75%</th>\n",
       "      <td>7.200000e+03</td>\n",
       "      <td>2008.000000</td>\n",
       "      <td>150.000000</td>\n",
       "      <td>150000.000000</td>\n",
       "      <td>9.000000</td>\n",
       "      <td>0.0</td>\n",
       "      <td>71546.00000</td>\n",
       "    </tr>\n",
       "    <tr>\n",
       "      <th>max</th>\n",
       "      <td>2.147484e+09</td>\n",
       "      <td>9999.000000</td>\n",
       "      <td>20000.000000</td>\n",
       "      <td>150000.000000</td>\n",
       "      <td>12.000000</td>\n",
       "      <td>0.0</td>\n",
       "      <td>99998.00000</td>\n",
       "    </tr>\n",
       "  </tbody>\n",
       "</table>\n",
       "</div>"
      ],
      "text/plain": [
       "              price  yearOfRegistration        powerPS      kilometer  \\\n",
       "count  3.715280e+05       371528.000000  371528.000000  371528.000000   \n",
       "mean   1.729514e+04         2004.577997     115.549477  125618.688228   \n",
       "std    3.587954e+06           92.866598     192.139578   40112.337051   \n",
       "min    0.000000e+00         1000.000000       0.000000    5000.000000   \n",
       "25%    1.150000e+03         1999.000000      70.000000  125000.000000   \n",
       "50%    2.950000e+03         2003.000000     105.000000  150000.000000   \n",
       "75%    7.200000e+03         2008.000000     150.000000  150000.000000   \n",
       "max    2.147484e+09         9999.000000   20000.000000  150000.000000   \n",
       "\n",
       "       monthOfRegistration  nrOfPictures    postalCode  \n",
       "count        371528.000000      371528.0  371528.00000  \n",
       "mean              5.734445           0.0   50820.66764  \n",
       "std               3.712412           0.0   25799.08247  \n",
       "min               0.000000           0.0    1067.00000  \n",
       "25%               3.000000           0.0   30459.00000  \n",
       "50%               6.000000           0.0   49610.00000  \n",
       "75%               9.000000           0.0   71546.00000  \n",
       "max              12.000000           0.0   99998.00000  "
      ]
     },
     "execution_count": 210,
     "metadata": {},
     "output_type": "execute_result"
    }
   ],
   "source": [
    "#discriptive statistics of the data\n",
    "cars_df.describe()"
   ]
  },
  {
   "attachments": {},
   "cell_type": "markdown",
   "metadata": {},
   "source": [
    "#### Investigate some of the variables"
   ]
  },
  {
   "cell_type": "code",
   "execution_count": 211,
   "metadata": {},
   "outputs": [
    {
     "name": "stdout",
     "output_type": "stream",
     "text": [
      "Unique values in 'gearbox' column:  ['manual' 'automatic' nan]\n",
      "Number of values in 'gearbox' column:  manual       274214\n",
      "automatic     77105\n",
      "Name: gearbox, dtype: int64\n"
     ]
    }
   ],
   "source": [
    "# Check unique values in 'gearbox' column\n",
    "print(\"Unique values in 'gearbox' column: \", cars_df['gearbox'].unique())\n",
    "\n",
    "# Check the gearbox values\n",
    "print(\"Number of values in 'gearbox' column: \", cars_df['gearbox'].value_counts())"
   ]
  },
  {
   "cell_type": "code",
   "execution_count": 212,
   "metadata": {},
   "outputs": [
    {
     "name": "stdout",
     "output_type": "stream",
     "text": [
      "Number of values in 'vehicleType' column:  limousine        95894\n",
      "small car        80023\n",
      "station wagon    67564\n",
      "bus              30201\n",
      "convertible      22898\n",
      "coupe            19015\n",
      "suv              14707\n",
      "other             3357\n",
      "Name: vehicleType, dtype: int64\n"
     ]
    }
   ],
   "source": [
    "#check the vehicle type values\n",
    "print(\"Number of values in 'vehicleType' column: \", cars_df['vehicleType'].value_counts())"
   ]
  },
  {
   "cell_type": "code",
   "execution_count": 213,
   "metadata": {},
   "outputs": [
    {
     "name": "stdout",
     "output_type": "stream",
     "text": [
      "Number of values in 'manufacturer' column:  volkswagen       79640\n",
      "bmw              40274\n",
      "opel             40136\n",
      "mercedes_benz    35309\n",
      "audi             32873\n",
      "ford             25573\n",
      "renault          17969\n",
      "peugeot          11027\n",
      "fiat              9676\n",
      "seat              7022\n",
      "mazda             5695\n",
      "skoda             5641\n",
      "smart             5249\n",
      "citroen           5182\n",
      "nissan            5037\n",
      "Name: brand, dtype: int64\n"
     ]
    }
   ],
   "source": [
    "#check the manufacturer values\n",
    "print(\"Number of values in 'manufacturer' column: \", cars_df['brand'].value_counts().nlargest(15))"
   ]
  },
  {
   "cell_type": "code",
   "execution_count": 214,
   "metadata": {},
   "outputs": [
    {
     "name": "stdout",
     "output_type": "stream",
     "text": [
      "Unique values in 'seller' column:  ['private' 'dealer']\n",
      "private    371525\n",
      "dealer          3\n",
      "Name: seller, dtype: int64\n"
     ]
    }
   ],
   "source": [
    "# Check unique values in 'seller' column\n",
    "print(\"Unique values in 'seller' column: \", cars_df['seller'].unique())\n",
    "\n",
    "print(cars_df['seller'].value_counts())"
   ]
  },
  {
   "cell_type": "code",
   "execution_count": 215,
   "metadata": {},
   "outputs": [
    {
     "name": "stdout",
     "output_type": "stream",
     "text": [
      "Earliest registration year:  1000\n",
      "Latest registration year:  9999\n",
      "Earliest registration month:  0\n",
      "Latest registration month:  12\n"
     ]
    }
   ],
   "source": [
    "# Check for unusual values in yearOfRegistration\n",
    "print(\"Earliest registration year: \", cars_df[\"yearOfRegistration\"].min())\n",
    "print(\"Latest registration year: \", cars_df[\"yearOfRegistration\"].max())\n",
    "\n",
    "# Check for unusual values in monthOfRegistration\n",
    "print(\"Earliest registration month: \", cars_df[\"monthOfRegistration\"].min())\n",
    "print(\"Latest registration month: \", cars_df[\"monthOfRegistration\"].max())\n"
   ]
  },
  {
   "attachments": {},
   "cell_type": "markdown",
   "metadata": {},
   "source": [
    "### Notes on data\n"
   ]
  },
  {
   "attachments": {},
   "cell_type": "markdown",
   "metadata": {},
   "source": [
    "#### Data issues"
   ]
  },
  {
   "attachments": {},
   "cell_type": "markdown",
   "metadata": {},
   "source": [
    "*  `gearbox`: Missing values need addressing.\n",
    "* `vehicleType`: Some missing values (10.19% missing). We will handle this variable.\n",
    "* `brand`: Some brands far more common; could skew brand-based analysis.\n",
    "* `seller`: 'Dealer' category is underrepresented that it might not provide meaningful information.\n",
    "* `yearOfRegistration` and `monthOfRegistration`: Contains unrealistic values, data cleaning necessary.\n",
    "* `price`: Contains outliers and unrealistic values (0 and excessively high).\n",
    "* `fuelType`: Some missing values (8.99% missing). We will handle this variable.\n",
    "* `notRepairedDamage`: Some missing values (19.40% missing). We will handle this variable.\n"
   ]
  },
  {
   "attachments": {},
   "cell_type": "markdown",
   "metadata": {},
   "source": [
    "#### Data Clean\n"
   ]
  },
  {
   "attachments": {},
   "cell_type": "markdown",
   "metadata": {},
   "source": [
    "* `Drop Irrelevant Columns`\n",
    "\n",
    "We can consider dropping abtest, dateCreated, nrOfPictures and lastSeen. These do not contribute significantly to our analysis and modeling.\n",
    "\n",
    "* `Correct Data Types`\n",
    "\n",
    "Convert yearOfRegistration and monthOfRegistration into a dateOfRegistration column.\n",
    "\n",
    "* `Handle Unrealistic Data`\n",
    "\n",
    "For price, let's limit the data to realistic values. For instance, we might only consider cars with prices between $100 and $150,000.\n",
    "Similarly, for yearOfRegistration, let's only consider vehicles with years between 1950 (year of the first car) and the current year. We can apply similar reasoning to monthOfRegistration, limiting the range to between 1 and 12.\n",
    "\n",
    "* `Handle Missing Data`\n",
    "\n",
    "Impute or delete the missing values in the gearbox, vehicleType, model, fuelType, and notRepairedDamage columnσ based on the strategy most suitable for your data and goals.\n",
    "\n",
    "* `Create New Columns`\n",
    "\n",
    "Create a vehicle_age column by subtracting the yearOfRegistration from the current year to allow for more in-depth analysis of how a vehicle's age affects its price."
   ]
  },
  {
   "attachments": {},
   "cell_type": "markdown",
   "metadata": {},
   "source": [
    "#### Drop unneccessary columns"
   ]
  },
  {
   "cell_type": "code",
   "execution_count": 216,
   "metadata": {},
   "outputs": [
    {
     "data": {
      "text/html": [
       "<div>\n",
       "<style scoped>\n",
       "    .dataframe tbody tr th:only-of-type {\n",
       "        vertical-align: middle;\n",
       "    }\n",
       "\n",
       "    .dataframe tbody tr th {\n",
       "        vertical-align: top;\n",
       "    }\n",
       "\n",
       "    .dataframe thead th {\n",
       "        text-align: right;\n",
       "    }\n",
       "</style>\n",
       "<table border=\"1\" class=\"dataframe\">\n",
       "  <thead>\n",
       "    <tr style=\"text-align: right;\">\n",
       "      <th></th>\n",
       "      <th>dateCrawled</th>\n",
       "      <th>name</th>\n",
       "      <th>seller</th>\n",
       "      <th>offerType</th>\n",
       "      <th>price</th>\n",
       "      <th>abtest</th>\n",
       "      <th>vehicleType</th>\n",
       "      <th>yearOfRegistration</th>\n",
       "      <th>gearbox</th>\n",
       "      <th>powerPS</th>\n",
       "      <th>model</th>\n",
       "      <th>kilometer</th>\n",
       "      <th>monthOfRegistration</th>\n",
       "      <th>fuelType</th>\n",
       "      <th>brand</th>\n",
       "      <th>notRepairedDamage</th>\n",
       "      <th>dateCreated</th>\n",
       "      <th>nrOfPictures</th>\n",
       "      <th>postalCode</th>\n",
       "      <th>lastSeen</th>\n",
       "    </tr>\n",
       "  </thead>\n",
       "  <tbody>\n",
       "    <tr>\n",
       "      <th>0</th>\n",
       "      <td>2016-03-24 11:52:17</td>\n",
       "      <td>Golf_3_1.6</td>\n",
       "      <td>private</td>\n",
       "      <td>Angebot</td>\n",
       "      <td>480</td>\n",
       "      <td>test</td>\n",
       "      <td>NaN</td>\n",
       "      <td>1993</td>\n",
       "      <td>manual</td>\n",
       "      <td>0</td>\n",
       "      <td>golf</td>\n",
       "      <td>150000</td>\n",
       "      <td>0</td>\n",
       "      <td>gasoline</td>\n",
       "      <td>volkswagen</td>\n",
       "      <td>NaN</td>\n",
       "      <td>2016-03-24 00:00:00</td>\n",
       "      <td>0</td>\n",
       "      <td>70435</td>\n",
       "      <td>2016-04-07 03:16:57</td>\n",
       "    </tr>\n",
       "    <tr>\n",
       "      <th>1</th>\n",
       "      <td>2016-03-24 10:58:45</td>\n",
       "      <td>A5_Sportback_2.7_Tdi</td>\n",
       "      <td>private</td>\n",
       "      <td>Angebot</td>\n",
       "      <td>18300</td>\n",
       "      <td>test</td>\n",
       "      <td>coupe</td>\n",
       "      <td>2011</td>\n",
       "      <td>manual</td>\n",
       "      <td>190</td>\n",
       "      <td>NaN</td>\n",
       "      <td>125000</td>\n",
       "      <td>5</td>\n",
       "      <td>diesel</td>\n",
       "      <td>audi</td>\n",
       "      <td>yes</td>\n",
       "      <td>2016-03-24 00:00:00</td>\n",
       "      <td>0</td>\n",
       "      <td>66954</td>\n",
       "      <td>2016-04-07 01:46:50</td>\n",
       "    </tr>\n",
       "    <tr>\n",
       "      <th>2</th>\n",
       "      <td>2016-03-14 12:52:21</td>\n",
       "      <td>Jeep_Grand_Cherokee_\"Overland\"</td>\n",
       "      <td>private</td>\n",
       "      <td>Angebot</td>\n",
       "      <td>9800</td>\n",
       "      <td>test</td>\n",
       "      <td>suv</td>\n",
       "      <td>2004</td>\n",
       "      <td>automatic</td>\n",
       "      <td>163</td>\n",
       "      <td>grand</td>\n",
       "      <td>125000</td>\n",
       "      <td>8</td>\n",
       "      <td>diesel</td>\n",
       "      <td>jeep</td>\n",
       "      <td>NaN</td>\n",
       "      <td>2016-03-14 00:00:00</td>\n",
       "      <td>0</td>\n",
       "      <td>90480</td>\n",
       "      <td>2016-04-05 12:47:46</td>\n",
       "    </tr>\n",
       "    <tr>\n",
       "      <th>3</th>\n",
       "      <td>2016-03-17 16:54:04</td>\n",
       "      <td>GOLF_4_1_4__3TÜRER</td>\n",
       "      <td>private</td>\n",
       "      <td>Angebot</td>\n",
       "      <td>1500</td>\n",
       "      <td>test</td>\n",
       "      <td>small car</td>\n",
       "      <td>2001</td>\n",
       "      <td>manual</td>\n",
       "      <td>75</td>\n",
       "      <td>golf</td>\n",
       "      <td>150000</td>\n",
       "      <td>6</td>\n",
       "      <td>gasoline</td>\n",
       "      <td>volkswagen</td>\n",
       "      <td>no</td>\n",
       "      <td>2016-03-17 00:00:00</td>\n",
       "      <td>0</td>\n",
       "      <td>91074</td>\n",
       "      <td>2016-03-17 17:40:17</td>\n",
       "    </tr>\n",
       "    <tr>\n",
       "      <th>4</th>\n",
       "      <td>2016-03-31 17:25:20</td>\n",
       "      <td>Skoda_Fabia_1.4_TDI_PD_Classic</td>\n",
       "      <td>private</td>\n",
       "      <td>Angebot</td>\n",
       "      <td>3600</td>\n",
       "      <td>test</td>\n",
       "      <td>small car</td>\n",
       "      <td>2008</td>\n",
       "      <td>manual</td>\n",
       "      <td>69</td>\n",
       "      <td>fabia</td>\n",
       "      <td>90000</td>\n",
       "      <td>7</td>\n",
       "      <td>diesel</td>\n",
       "      <td>skoda</td>\n",
       "      <td>no</td>\n",
       "      <td>2016-03-31 00:00:00</td>\n",
       "      <td>0</td>\n",
       "      <td>60437</td>\n",
       "      <td>2016-04-06 10:17:21</td>\n",
       "    </tr>\n",
       "  </tbody>\n",
       "</table>\n",
       "</div>"
      ],
      "text/plain": [
       "           dateCrawled                            name   seller offerType  \\\n",
       "0  2016-03-24 11:52:17                      Golf_3_1.6  private   Angebot   \n",
       "1  2016-03-24 10:58:45            A5_Sportback_2.7_Tdi  private   Angebot   \n",
       "2  2016-03-14 12:52:21  Jeep_Grand_Cherokee_\"Overland\"  private   Angebot   \n",
       "3  2016-03-17 16:54:04              GOLF_4_1_4__3TÜRER  private   Angebot   \n",
       "4  2016-03-31 17:25:20  Skoda_Fabia_1.4_TDI_PD_Classic  private   Angebot   \n",
       "\n",
       "   price abtest vehicleType  yearOfRegistration    gearbox  powerPS  model  \\\n",
       "0    480   test         NaN                1993     manual        0   golf   \n",
       "1  18300   test       coupe                2011     manual      190    NaN   \n",
       "2   9800   test         suv                2004  automatic      163  grand   \n",
       "3   1500   test   small car                2001     manual       75   golf   \n",
       "4   3600   test   small car                2008     manual       69  fabia   \n",
       "\n",
       "   kilometer  monthOfRegistration  fuelType       brand notRepairedDamage  \\\n",
       "0     150000                    0  gasoline  volkswagen               NaN   \n",
       "1     125000                    5    diesel        audi               yes   \n",
       "2     125000                    8    diesel        jeep               NaN   \n",
       "3     150000                    6  gasoline  volkswagen                no   \n",
       "4      90000                    7    diesel       skoda                no   \n",
       "\n",
       "           dateCreated  nrOfPictures  postalCode             lastSeen  \n",
       "0  2016-03-24 00:00:00             0       70435  2016-04-07 03:16:57  \n",
       "1  2016-03-24 00:00:00             0       66954  2016-04-07 01:46:50  \n",
       "2  2016-03-14 00:00:00             0       90480  2016-04-05 12:47:46  \n",
       "3  2016-03-17 00:00:00             0       91074  2016-03-17 17:40:17  \n",
       "4  2016-03-31 00:00:00             0       60437  2016-04-06 10:17:21  "
      ]
     },
     "execution_count": 216,
     "metadata": {},
     "output_type": "execute_result"
    }
   ],
   "source": [
    "# Create a copy of the original DataFrame\n",
    "cars_df_clean = cars_df.copy()\n",
    "\n",
    "cars_df.head()"
   ]
  },
  {
   "cell_type": "code",
   "execution_count": 217,
   "metadata": {},
   "outputs": [],
   "source": [
    "#dropping  abtest, dateCreated, nrOfPictures and lastSeen\n",
    "del_col = ['dateCrawled', 'abtest', 'dateCreated', 'nrOfPictures', 'lastSeen']\n",
    "cars_df_clean.drop(columns = del_col, inplace = True )"
   ]
  },
  {
   "cell_type": "code",
   "execution_count": 218,
   "metadata": {},
   "outputs": [
    {
     "name": "stdout",
     "output_type": "stream",
     "text": [
      "['name', 'seller', 'offerType', 'price', 'vehicleType', 'yearOfRegistration', 'gearbox', 'powerPS', 'model', 'kilometer', 'monthOfRegistration', 'fuelType', 'brand', 'notRepairedDamage', 'postalCode']\n"
     ]
    }
   ],
   "source": [
    "#check the columns that we have\n",
    "print(cars_df_clean.columns.tolist())"
   ]
  },
  {
   "attachments": {},
   "cell_type": "markdown",
   "metadata": {},
   "source": [
    "#### Correct Data Types & Handle Unrealistic Data"
   ]
  },
  {
   "cell_type": "code",
   "execution_count": 219,
   "metadata": {},
   "outputs": [
    {
     "name": "stderr",
     "output_type": "stream",
     "text": [
      "/var/folders/s4/snpqnqqs1gj8pc3k35d26llr0000gn/T/ipykernel_12816/3221857176.py:5: FutureWarning: Boolean inputs to the `inclusive` argument are deprecated in favour of `both` or `neither`.\n",
      "  valid_years = cars_df_clean['yearOfRegistration'].between(1950, 2023, inclusive=True)\n",
      "/var/folders/s4/snpqnqqs1gj8pc3k35d26llr0000gn/T/ipykernel_12816/3221857176.py:6: FutureWarning: Boolean inputs to the `inclusive` argument are deprecated in favour of `both` or `neither`.\n",
      "  valid_months = cars_df_clean['monthOfRegistration'].between(1, 12, inclusive=True)\n"
     ]
    },
    {
     "data": {
      "text/plain": [
       "['name',\n",
       " 'seller',\n",
       " 'offerType',\n",
       " 'price',\n",
       " 'vehicleType',\n",
       " 'gearbox',\n",
       " 'powerPS',\n",
       " 'model',\n",
       " 'kilometer',\n",
       " 'fuelType',\n",
       " 'brand',\n",
       " 'notRepairedDamage',\n",
       " 'postalCode',\n",
       " 'dateOfRegistration']"
      ]
     },
     "execution_count": 219,
     "metadata": {},
     "output_type": "execute_result"
    }
   ],
   "source": [
    "#filter that monthOfRegistration is between 1(Jan) to 12(Dec)\n",
    "cars_df_clean = cars_df_clean[(cars_df_clean['monthOfRegistration'] > 0) & (cars_df_clean['monthOfRegistration'] <= 12)]\n",
    "\n",
    "# Filter out rows with invalid or out-of-bounds values in yearOfRegistration and monthOfRegistration\n",
    "valid_years = cars_df_clean['yearOfRegistration'].between(1950, 2023, inclusive=True)\n",
    "valid_months = cars_df_clean['monthOfRegistration'].between(1, 12, inclusive=True)\n",
    "cars_df_clean = cars_df_clean[valid_years & valid_months]\n",
    "\n",
    "# Combine yearOfRegistration and monthOfRegistration to form dateOfRegistration\n",
    "cars_df_clean['dateOfRegistration'] = pd.to_datetime(cars_df_clean['yearOfRegistration'].astype(str) + '-' + cars_df_clean['monthOfRegistration'].astype(str) + '-01')\n",
    "\n",
    "# Drop the yearOfRegistration and monthOfRegistration columns\n",
    "cars_df_clean.drop( columns = ['yearOfRegistration', 'monthOfRegistration'], inplace=True)\n",
    "\n",
    "# Print the updated columns\n",
    "cars_df_clean.columns.tolist()"
   ]
  },
  {
   "cell_type": "code",
   "execution_count": 220,
   "metadata": {},
   "outputs": [
    {
     "data": {
      "text/plain": [
       "1        2011-05-01\n",
       "2        2004-08-01\n",
       "3        2001-06-01\n",
       "4        2008-07-01\n",
       "5        1995-10-01\n",
       "            ...    \n",
       "371523   2005-01-01\n",
       "371524   2000-03-01\n",
       "371525   1996-03-01\n",
       "371526   2002-06-01\n",
       "371527   2013-08-01\n",
       "Name: dateOfRegistration, Length: 333689, dtype: datetime64[ns]"
      ]
     },
     "execution_count": 220,
     "metadata": {},
     "output_type": "execute_result"
    }
   ],
   "source": [
    "#Check the dateOfRegistration column for errors\n",
    "cars_df_clean.dateOfRegistration"
   ]
  },
  {
   "attachments": {},
   "cell_type": "markdown",
   "metadata": {},
   "source": [
    "#### Handle Missing Data\n"
   ]
  },
  {
   "cell_type": "code",
   "execution_count": 221,
   "metadata": {},
   "outputs": [],
   "source": [
    "# I'll fill the missing values with the mode (most frequent value), as this is a categorical variable.\n",
    "cars_df_clean['vehicleType'].fillna(cars_df_clean['vehicleType'].mode()[0], inplace=True)\n",
    "cars_df_clean['fuelType'].fillna(cars_df_clean['fuelType'].mode()[0], inplace=True)"
   ]
  },
  {
   "cell_type": "code",
   "execution_count": 222,
   "metadata": {},
   "outputs": [
    {
     "name": "stdout",
     "output_type": "stream",
     "text": [
      "Rows:  333689\n",
      "Columns:  14\n"
     ]
    }
   ],
   "source": [
    "# I'll fill the missing values of notRepairedDamage with uknown, so we will understand if it is significant to know that if the car is damaged\n",
    "cars_df_clean['notRepairedDamage'].fillna('unknown', inplace=True)\n",
    "print('Rows: ', cars_df_clean.shape[0])\n",
    "print('Columns: ', cars_df_clean.shape[1])"
   ]
  },
  {
   "attachments": {},
   "cell_type": "markdown",
   "metadata": {},
   "source": [
    "##### Drop rows with missing values"
   ]
  },
  {
   "cell_type": "code",
   "execution_count": 223,
   "metadata": {},
   "outputs": [
    {
     "name": "stdout",
     "output_type": "stream",
     "text": [
      "Rows:  310852\n",
      "Columns:  14\n"
     ]
    },
    {
     "data": {
      "text/plain": [
       "Index(['name', 'seller', 'offerType', 'price', 'vehicleType', 'gearbox',\n",
       "       'powerPS', 'model', 'kilometer', 'fuelType', 'brand',\n",
       "       'notRepairedDamage', 'postalCode', 'dateOfRegistration'],\n",
       "      dtype='object')"
      ]
     },
     "execution_count": 223,
     "metadata": {},
     "output_type": "execute_result"
    }
   ],
   "source": [
    "# finally, drop rows with missing values\n",
    "cars_df_clean = cars_df_clean.dropna(axis=0)\n",
    "\n",
    "# check shape of clean dataframe\n",
    "print('Rows: ', cars_df_clean.shape[0])\n",
    "print('Columns: ', cars_df_clean.shape[1])\n",
    "cars_df_clean.columns"
   ]
  },
  {
   "attachments": {},
   "cell_type": "markdown",
   "metadata": {},
   "source": [
    "#### Create vehicle age column\n"
   ]
  },
  {
   "cell_type": "code",
   "execution_count": 224,
   "metadata": {},
   "outputs": [
    {
     "data": {
      "text/html": [
       "<div>\n",
       "<style scoped>\n",
       "    .dataframe tbody tr th:only-of-type {\n",
       "        vertical-align: middle;\n",
       "    }\n",
       "\n",
       "    .dataframe tbody tr th {\n",
       "        vertical-align: top;\n",
       "    }\n",
       "\n",
       "    .dataframe thead th {\n",
       "        text-align: right;\n",
       "    }\n",
       "</style>\n",
       "<table border=\"1\" class=\"dataframe\">\n",
       "  <thead>\n",
       "    <tr style=\"text-align: right;\">\n",
       "      <th></th>\n",
       "      <th>name</th>\n",
       "      <th>seller</th>\n",
       "      <th>offerType</th>\n",
       "      <th>price</th>\n",
       "      <th>vehicleType</th>\n",
       "      <th>gearbox</th>\n",
       "      <th>powerPS</th>\n",
       "      <th>model</th>\n",
       "      <th>kilometer</th>\n",
       "      <th>fuelType</th>\n",
       "      <th>brand</th>\n",
       "      <th>notRepairedDamage</th>\n",
       "      <th>postalCode</th>\n",
       "      <th>dateOfRegistration</th>\n",
       "      <th>vehicle_age</th>\n",
       "    </tr>\n",
       "  </thead>\n",
       "  <tbody>\n",
       "    <tr>\n",
       "      <th>2</th>\n",
       "      <td>Jeep_Grand_Cherokee_\"Overland\"</td>\n",
       "      <td>private</td>\n",
       "      <td>Angebot</td>\n",
       "      <td>9800</td>\n",
       "      <td>suv</td>\n",
       "      <td>automatic</td>\n",
       "      <td>163</td>\n",
       "      <td>grand</td>\n",
       "      <td>125000</td>\n",
       "      <td>diesel</td>\n",
       "      <td>jeep</td>\n",
       "      <td>unknown</td>\n",
       "      <td>90480</td>\n",
       "      <td>2004-08-01</td>\n",
       "      <td>18</td>\n",
       "    </tr>\n",
       "    <tr>\n",
       "      <th>3</th>\n",
       "      <td>GOLF_4_1_4__3TÜRER</td>\n",
       "      <td>private</td>\n",
       "      <td>Angebot</td>\n",
       "      <td>1500</td>\n",
       "      <td>small car</td>\n",
       "      <td>manual</td>\n",
       "      <td>75</td>\n",
       "      <td>golf</td>\n",
       "      <td>150000</td>\n",
       "      <td>gasoline</td>\n",
       "      <td>volkswagen</td>\n",
       "      <td>no</td>\n",
       "      <td>91074</td>\n",
       "      <td>2001-06-01</td>\n",
       "      <td>22</td>\n",
       "    </tr>\n",
       "    <tr>\n",
       "      <th>4</th>\n",
       "      <td>Skoda_Fabia_1.4_TDI_PD_Classic</td>\n",
       "      <td>private</td>\n",
       "      <td>Angebot</td>\n",
       "      <td>3600</td>\n",
       "      <td>small car</td>\n",
       "      <td>manual</td>\n",
       "      <td>69</td>\n",
       "      <td>fabia</td>\n",
       "      <td>90000</td>\n",
       "      <td>diesel</td>\n",
       "      <td>skoda</td>\n",
       "      <td>no</td>\n",
       "      <td>60437</td>\n",
       "      <td>2008-07-01</td>\n",
       "      <td>15</td>\n",
       "    </tr>\n",
       "    <tr>\n",
       "      <th>5</th>\n",
       "      <td>BMW_316i___e36_Limousine___Bastlerfahrzeug__Ex...</td>\n",
       "      <td>private</td>\n",
       "      <td>Angebot</td>\n",
       "      <td>650</td>\n",
       "      <td>limousine</td>\n",
       "      <td>manual</td>\n",
       "      <td>102</td>\n",
       "      <td>3er</td>\n",
       "      <td>150000</td>\n",
       "      <td>gasoline</td>\n",
       "      <td>bmw</td>\n",
       "      <td>yes</td>\n",
       "      <td>33775</td>\n",
       "      <td>1995-10-01</td>\n",
       "      <td>27</td>\n",
       "    </tr>\n",
       "    <tr>\n",
       "      <th>6</th>\n",
       "      <td>Peugeot_206_CC_110_Platinum</td>\n",
       "      <td>private</td>\n",
       "      <td>Angebot</td>\n",
       "      <td>2200</td>\n",
       "      <td>convertible</td>\n",
       "      <td>manual</td>\n",
       "      <td>109</td>\n",
       "      <td>2_reihe</td>\n",
       "      <td>150000</td>\n",
       "      <td>gasoline</td>\n",
       "      <td>peugeot</td>\n",
       "      <td>no</td>\n",
       "      <td>67112</td>\n",
       "      <td>2004-08-01</td>\n",
       "      <td>18</td>\n",
       "    </tr>\n",
       "  </tbody>\n",
       "</table>\n",
       "</div>"
      ],
      "text/plain": [
       "                                                name   seller offerType  \\\n",
       "2                     Jeep_Grand_Cherokee_\"Overland\"  private   Angebot   \n",
       "3                                 GOLF_4_1_4__3TÜRER  private   Angebot   \n",
       "4                     Skoda_Fabia_1.4_TDI_PD_Classic  private   Angebot   \n",
       "5  BMW_316i___e36_Limousine___Bastlerfahrzeug__Ex...  private   Angebot   \n",
       "6                        Peugeot_206_CC_110_Platinum  private   Angebot   \n",
       "\n",
       "   price  vehicleType    gearbox  powerPS    model  kilometer  fuelType  \\\n",
       "2   9800          suv  automatic      163    grand     125000    diesel   \n",
       "3   1500    small car     manual       75     golf     150000  gasoline   \n",
       "4   3600    small car     manual       69    fabia      90000    diesel   \n",
       "5    650    limousine     manual      102      3er     150000  gasoline   \n",
       "6   2200  convertible     manual      109  2_reihe     150000  gasoline   \n",
       "\n",
       "        brand notRepairedDamage  postalCode dateOfRegistration  vehicle_age  \n",
       "2        jeep           unknown       90480         2004-08-01           18  \n",
       "3  volkswagen                no       91074         2001-06-01           22  \n",
       "4       skoda                no       60437         2008-07-01           15  \n",
       "5         bmw               yes       33775         1995-10-01           27  \n",
       "6     peugeot                no       67112         2004-08-01           18  "
      ]
     },
     "execution_count": 224,
     "metadata": {},
     "output_type": "execute_result"
    }
   ],
   "source": [
    "now = datetime.now()\n",
    "\n",
    "# Calculate the age of each vehicle\n",
    "cars_df_clean['vehicle_age'] = (now - cars_df_clean['dateOfRegistration']).dt.days // 365\n",
    "\n",
    "cars_df_clean.head()"
   ]
  }
 ],
 "metadata": {
  "kernelspec": {
   "display_name": "base",
   "language": "python",
   "name": "python3"
  },
  "language_info": {
   "codemirror_mode": {
    "name": "ipython",
    "version": 3
   },
   "file_extension": ".py",
   "mimetype": "text/x-python",
   "name": "python",
   "nbconvert_exporter": "python",
   "pygments_lexer": "ipython3",
   "version": "3.10.9"
  },
  "vscode": {
   "interpreter": {
    "hash": "87203316b084d3ca1141c4d9b5ecb777280863bae4243caf5b0fa66613526547"
   }
  }
 },
 "nbformat": 4,
 "nbformat_minor": 2
}
