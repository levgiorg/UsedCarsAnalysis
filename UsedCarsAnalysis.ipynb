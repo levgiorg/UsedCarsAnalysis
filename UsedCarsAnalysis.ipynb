{
 "cells": [
  {
   "attachments": {},
   "cell_type": "markdown",
   "metadata": {},
   "source": [
    "# Exploratory Data Analysis \n",
    "\n",
    "### by George Levis"
   ]
  },
  {
   "attachments": {},
   "cell_type": "markdown",
   "metadata": {},
   "source": [
    ">This dataset comprises of 380,000 entries of used cars for sale from various online platforms. The data has been downloaded from a comprehensive used car dataset, providing in-depth information about each vehicle's type, age, condition, and more. The full dataset can be found at https://www.kaggle.com/datasets/thedevastator/uncovering-factors-that-affect-used-car-prices\n"
   ]
  },
  {
   "attachments": {},
   "cell_type": "markdown",
   "metadata": {},
   "source": [
    "#### Preliminary Data Wrangling"
   ]
  },
  {
   "cell_type": "code",
   "execution_count": 27,
   "metadata": {},
   "outputs": [],
   "source": [
    "# import necessary libraries\n",
    "import pandas as pd \n",
    "import numpy as np \n",
    "import matplotlib.pyplot as plt "
   ]
  },
  {
   "cell_type": "code",
   "execution_count": 28,
   "metadata": {},
   "outputs": [
    {
     "data": {
      "text/html": [
       "<div>\n",
       "<style scoped>\n",
       "    .dataframe tbody tr th:only-of-type {\n",
       "        vertical-align: middle;\n",
       "    }\n",
       "\n",
       "    .dataframe tbody tr th {\n",
       "        vertical-align: top;\n",
       "    }\n",
       "\n",
       "    .dataframe thead th {\n",
       "        text-align: right;\n",
       "    }\n",
       "</style>\n",
       "<table border=\"1\" class=\"dataframe\">\n",
       "  <thead>\n",
       "    <tr style=\"text-align: right;\">\n",
       "      <th></th>\n",
       "      <th>name</th>\n",
       "      <th>seller</th>\n",
       "      <th>offerType</th>\n",
       "      <th>price</th>\n",
       "      <th>abtest</th>\n",
       "      <th>vehicleType</th>\n",
       "      <th>yearOfRegistration</th>\n",
       "      <th>gearbox</th>\n",
       "      <th>powerPS</th>\n",
       "      <th>model</th>\n",
       "      <th>kilometer</th>\n",
       "      <th>monthOfRegistration</th>\n",
       "      <th>fuelType</th>\n",
       "      <th>brand</th>\n",
       "      <th>notRepairedDamage</th>\n",
       "      <th>dateCreated</th>\n",
       "      <th>nrOfPictures</th>\n",
       "      <th>postalCode</th>\n",
       "      <th>lastSeen</th>\n",
       "    </tr>\n",
       "    <tr>\n",
       "      <th>dateCrawled</th>\n",
       "      <th></th>\n",
       "      <th></th>\n",
       "      <th></th>\n",
       "      <th></th>\n",
       "      <th></th>\n",
       "      <th></th>\n",
       "      <th></th>\n",
       "      <th></th>\n",
       "      <th></th>\n",
       "      <th></th>\n",
       "      <th></th>\n",
       "      <th></th>\n",
       "      <th></th>\n",
       "      <th></th>\n",
       "      <th></th>\n",
       "      <th></th>\n",
       "      <th></th>\n",
       "      <th></th>\n",
       "      <th></th>\n",
       "    </tr>\n",
       "  </thead>\n",
       "  <tbody>\n",
       "    <tr>\n",
       "      <th>2016-03-24 11:52:17</th>\n",
       "      <td>Golf_3_1.6</td>\n",
       "      <td>private</td>\n",
       "      <td>Angebot</td>\n",
       "      <td>480</td>\n",
       "      <td>test</td>\n",
       "      <td>NaN</td>\n",
       "      <td>1993</td>\n",
       "      <td>manual</td>\n",
       "      <td>0</td>\n",
       "      <td>golf</td>\n",
       "      <td>150000</td>\n",
       "      <td>0</td>\n",
       "      <td>gasoline</td>\n",
       "      <td>volkswagen</td>\n",
       "      <td>NaN</td>\n",
       "      <td>2016-03-24 00:00:00</td>\n",
       "      <td>0</td>\n",
       "      <td>70435</td>\n",
       "      <td>2016-04-07 03:16:57</td>\n",
       "    </tr>\n",
       "    <tr>\n",
       "      <th>2016-03-24 10:58:45</th>\n",
       "      <td>A5_Sportback_2.7_Tdi</td>\n",
       "      <td>private</td>\n",
       "      <td>Angebot</td>\n",
       "      <td>18300</td>\n",
       "      <td>test</td>\n",
       "      <td>coupe</td>\n",
       "      <td>2011</td>\n",
       "      <td>manual</td>\n",
       "      <td>190</td>\n",
       "      <td>NaN</td>\n",
       "      <td>125000</td>\n",
       "      <td>5</td>\n",
       "      <td>diesel</td>\n",
       "      <td>audi</td>\n",
       "      <td>yes</td>\n",
       "      <td>2016-03-24 00:00:00</td>\n",
       "      <td>0</td>\n",
       "      <td>66954</td>\n",
       "      <td>2016-04-07 01:46:50</td>\n",
       "    </tr>\n",
       "    <tr>\n",
       "      <th>2016-03-14 12:52:21</th>\n",
       "      <td>Jeep_Grand_Cherokee_\"Overland\"</td>\n",
       "      <td>private</td>\n",
       "      <td>Angebot</td>\n",
       "      <td>9800</td>\n",
       "      <td>test</td>\n",
       "      <td>suv</td>\n",
       "      <td>2004</td>\n",
       "      <td>automatic</td>\n",
       "      <td>163</td>\n",
       "      <td>grand</td>\n",
       "      <td>125000</td>\n",
       "      <td>8</td>\n",
       "      <td>diesel</td>\n",
       "      <td>jeep</td>\n",
       "      <td>NaN</td>\n",
       "      <td>2016-03-14 00:00:00</td>\n",
       "      <td>0</td>\n",
       "      <td>90480</td>\n",
       "      <td>2016-04-05 12:47:46</td>\n",
       "    </tr>\n",
       "    <tr>\n",
       "      <th>2016-03-17 16:54:04</th>\n",
       "      <td>GOLF_4_1_4__3TÜRER</td>\n",
       "      <td>private</td>\n",
       "      <td>Angebot</td>\n",
       "      <td>1500</td>\n",
       "      <td>test</td>\n",
       "      <td>small car</td>\n",
       "      <td>2001</td>\n",
       "      <td>manual</td>\n",
       "      <td>75</td>\n",
       "      <td>golf</td>\n",
       "      <td>150000</td>\n",
       "      <td>6</td>\n",
       "      <td>gasoline</td>\n",
       "      <td>volkswagen</td>\n",
       "      <td>no</td>\n",
       "      <td>2016-03-17 00:00:00</td>\n",
       "      <td>0</td>\n",
       "      <td>91074</td>\n",
       "      <td>2016-03-17 17:40:17</td>\n",
       "    </tr>\n",
       "    <tr>\n",
       "      <th>2016-03-31 17:25:20</th>\n",
       "      <td>Skoda_Fabia_1.4_TDI_PD_Classic</td>\n",
       "      <td>private</td>\n",
       "      <td>Angebot</td>\n",
       "      <td>3600</td>\n",
       "      <td>test</td>\n",
       "      <td>small car</td>\n",
       "      <td>2008</td>\n",
       "      <td>manual</td>\n",
       "      <td>69</td>\n",
       "      <td>fabia</td>\n",
       "      <td>90000</td>\n",
       "      <td>7</td>\n",
       "      <td>diesel</td>\n",
       "      <td>skoda</td>\n",
       "      <td>no</td>\n",
       "      <td>2016-03-31 00:00:00</td>\n",
       "      <td>0</td>\n",
       "      <td>60437</td>\n",
       "      <td>2016-04-06 10:17:21</td>\n",
       "    </tr>\n",
       "  </tbody>\n",
       "</table>\n",
       "</div>"
      ],
      "text/plain": [
       "                                               name   seller offerType  price  \\\n",
       "dateCrawled                                                                     \n",
       "2016-03-24 11:52:17                      Golf_3_1.6  private   Angebot    480   \n",
       "2016-03-24 10:58:45            A5_Sportback_2.7_Tdi  private   Angebot  18300   \n",
       "2016-03-14 12:52:21  Jeep_Grand_Cherokee_\"Overland\"  private   Angebot   9800   \n",
       "2016-03-17 16:54:04              GOLF_4_1_4__3TÜRER  private   Angebot   1500   \n",
       "2016-03-31 17:25:20  Skoda_Fabia_1.4_TDI_PD_Classic  private   Angebot   3600   \n",
       "\n",
       "                    abtest vehicleType  yearOfRegistration    gearbox  \\\n",
       "dateCrawled                                                             \n",
       "2016-03-24 11:52:17   test         NaN                1993     manual   \n",
       "2016-03-24 10:58:45   test       coupe                2011     manual   \n",
       "2016-03-14 12:52:21   test         suv                2004  automatic   \n",
       "2016-03-17 16:54:04   test   small car                2001     manual   \n",
       "2016-03-31 17:25:20   test   small car                2008     manual   \n",
       "\n",
       "                     powerPS  model  kilometer  monthOfRegistration  fuelType  \\\n",
       "dateCrawled                                                                     \n",
       "2016-03-24 11:52:17        0   golf     150000                    0  gasoline   \n",
       "2016-03-24 10:58:45      190    NaN     125000                    5    diesel   \n",
       "2016-03-14 12:52:21      163  grand     125000                    8    diesel   \n",
       "2016-03-17 16:54:04       75   golf     150000                    6  gasoline   \n",
       "2016-03-31 17:25:20       69  fabia      90000                    7    diesel   \n",
       "\n",
       "                          brand notRepairedDamage          dateCreated  \\\n",
       "dateCrawled                                                              \n",
       "2016-03-24 11:52:17  volkswagen               NaN  2016-03-24 00:00:00   \n",
       "2016-03-24 10:58:45        audi               yes  2016-03-24 00:00:00   \n",
       "2016-03-14 12:52:21        jeep               NaN  2016-03-14 00:00:00   \n",
       "2016-03-17 16:54:04  volkswagen                no  2016-03-17 00:00:00   \n",
       "2016-03-31 17:25:20       skoda                no  2016-03-31 00:00:00   \n",
       "\n",
       "                     nrOfPictures  postalCode             lastSeen  \n",
       "dateCrawled                                                         \n",
       "2016-03-24 11:52:17             0       70435  2016-04-07 03:16:57  \n",
       "2016-03-24 10:58:45             0       66954  2016-04-07 01:46:50  \n",
       "2016-03-14 12:52:21             0       90480  2016-04-05 12:47:46  \n",
       "2016-03-17 16:54:04             0       91074  2016-03-17 17:40:17  \n",
       "2016-03-31 17:25:20             0       60437  2016-04-06 10:17:21  "
      ]
     },
     "execution_count": 28,
     "metadata": {},
     "output_type": "execute_result"
    }
   ],
   "source": [
    "cars_df = pd.read_csv('autos.csv', index_col = 0)\n",
    "cars_df.head()"
   ]
  },
  {
   "attachments": {},
   "cell_type": "markdown",
   "metadata": {},
   "source": [
    "##### Understanding the Data\n"
   ]
  },
  {
   "cell_type": "code",
   "execution_count": 29,
   "metadata": {},
   "outputs": [
    {
     "name": "stdout",
     "output_type": "stream",
     "text": [
      "rows:  371528\n",
      "columns:  371528\n"
     ]
    }
   ],
   "source": [
    "#get the shape about the dataframe\n",
    "print(\"rows: \", cars_df.shape[0]) \n",
    "print(\"columns: \", cars_df.shape[0])"
   ]
  },
  {
   "cell_type": "code",
   "execution_count": 30,
   "metadata": {},
   "outputs": [
    {
     "name": "stdout",
     "output_type": "stream",
     "text": [
      "<class 'pandas.core.frame.DataFrame'>\n",
      "Index: 371528 entries, 2016-03-24 11:52:17 to 2016-03-07 19:39:19\n",
      "Data columns (total 19 columns):\n",
      " #   Column               Non-Null Count   Dtype \n",
      "---  ------               --------------   ----- \n",
      " 0   name                 371528 non-null  object\n",
      " 1   seller               371528 non-null  object\n",
      " 2   offerType            371528 non-null  object\n",
      " 3   price                371528 non-null  int64 \n",
      " 4   abtest               371528 non-null  object\n",
      " 5   vehicleType          333659 non-null  object\n",
      " 6   yearOfRegistration   371528 non-null  int64 \n",
      " 7   gearbox              351319 non-null  object\n",
      " 8   powerPS              371528 non-null  int64 \n",
      " 9   model                351044 non-null  object\n",
      " 10  kilometer            371528 non-null  int64 \n",
      " 11  monthOfRegistration  371528 non-null  int64 \n",
      " 12  fuelType             338142 non-null  object\n",
      " 13  brand                371528 non-null  object\n",
      " 14  notRepairedDamage    299468 non-null  object\n",
      " 15  dateCreated          371528 non-null  object\n",
      " 16  nrOfPictures         371528 non-null  int64 \n",
      " 17  postalCode           371528 non-null  int64 \n",
      " 18  lastSeen             371528 non-null  object\n",
      "dtypes: int64(7), object(12)\n",
      "memory usage: 56.7+ MB\n",
      "Information about the data:  None\n"
     ]
    }
   ],
   "source": [
    "#get the information about the dataframe\n",
    "print(\"Information about the data: \", cars_df.info()) "
   ]
  },
  {
   "cell_type": "code",
   "execution_count": 31,
   "metadata": {},
   "outputs": [
    {
     "name": "stdout",
     "output_type": "stream",
     "text": [
      "Missing values in the data:  name                       0\n",
      "seller                     0\n",
      "offerType                  0\n",
      "price                      0\n",
      "abtest                     0\n",
      "vehicleType            37869\n",
      "yearOfRegistration         0\n",
      "gearbox                20209\n",
      "powerPS                    0\n",
      "model                  20484\n",
      "kilometer                  0\n",
      "monthOfRegistration        0\n",
      "fuelType               33386\n",
      "brand                      0\n",
      "notRepairedDamage      72060\n",
      "dateCreated                0\n",
      "nrOfPictures               0\n",
      "postalCode                 0\n",
      "lastSeen                   0\n",
      "dtype: int64\n"
     ]
    }
   ],
   "source": [
    "#get the sum of null values in each column\n",
    "print(\"Missing values in the data: \", cars_df.isnull().sum()) "
   ]
  },
  {
   "cell_type": "code",
   "execution_count": 32,
   "metadata": {},
   "outputs": [
    {
     "name": "stdout",
     "output_type": "stream",
     "text": [
      "Percentage of missing values in each column:  name                    0.000000\n",
      "seller                  0.000000\n",
      "offerType               0.000000\n",
      "price                   0.000000\n",
      "abtest                  0.000000\n",
      "vehicleType            10.192771\n",
      "yearOfRegistration      0.000000\n",
      "gearbox                 5.439429\n",
      "powerPS                 0.000000\n",
      "model                   5.513447\n",
      "kilometer               0.000000\n",
      "monthOfRegistration     0.000000\n",
      "fuelType                8.986133\n",
      "brand                   0.000000\n",
      "notRepairedDamage      19.395577\n",
      "dateCreated             0.000000\n",
      "nrOfPictures            0.000000\n",
      "postalCode              0.000000\n",
      "lastSeen                0.000000\n",
      "dtype: float64\n"
     ]
    }
   ],
   "source": [
    "#percentage of missing values in each column\n",
    "blank_percent = cars_df.isnull().sum() * 100 / len(cars_df)\n",
    "print(\"Percentage of missing values in each column: \", blank_percent)"
   ]
  },
  {
   "cell_type": "code",
   "execution_count": 33,
   "metadata": {},
   "outputs": [
    {
     "name": "stdout",
     "output_type": "stream",
     "text": [
      "Number of duplicate rows:  29\n"
     ]
    }
   ],
   "source": [
    "#check for duplicate rows\n",
    "print(\"Number of duplicate rows: \", cars_df.duplicated().sum())"
   ]
  },
  {
   "cell_type": "code",
   "execution_count": 42,
   "metadata": {},
   "outputs": [
    {
     "name": "stdout",
     "output_type": "stream",
     "text": [
      "Rows with missing values:  0\n"
     ]
    }
   ],
   "source": [
    "#check the rows with missing values\n",
    "print(\"Rows with missing values: \", cars_df.isna().all(axis=1).sum())"
   ]
  },
  {
   "cell_type": "code",
   "execution_count": 35,
   "metadata": {},
   "outputs": [
    {
     "data": {
      "text/html": [
       "<div>\n",
       "<style scoped>\n",
       "    .dataframe tbody tr th:only-of-type {\n",
       "        vertical-align: middle;\n",
       "    }\n",
       "\n",
       "    .dataframe tbody tr th {\n",
       "        vertical-align: top;\n",
       "    }\n",
       "\n",
       "    .dataframe thead th {\n",
       "        text-align: right;\n",
       "    }\n",
       "</style>\n",
       "<table border=\"1\" class=\"dataframe\">\n",
       "  <thead>\n",
       "    <tr style=\"text-align: right;\">\n",
       "      <th></th>\n",
       "      <th>price</th>\n",
       "      <th>yearOfRegistration</th>\n",
       "      <th>powerPS</th>\n",
       "      <th>kilometer</th>\n",
       "      <th>monthOfRegistration</th>\n",
       "      <th>nrOfPictures</th>\n",
       "      <th>postalCode</th>\n",
       "    </tr>\n",
       "  </thead>\n",
       "  <tbody>\n",
       "    <tr>\n",
       "      <th>count</th>\n",
       "      <td>3.715280e+05</td>\n",
       "      <td>371528.000000</td>\n",
       "      <td>371528.000000</td>\n",
       "      <td>371528.000000</td>\n",
       "      <td>371528.000000</td>\n",
       "      <td>371528.0</td>\n",
       "      <td>371528.00000</td>\n",
       "    </tr>\n",
       "    <tr>\n",
       "      <th>mean</th>\n",
       "      <td>1.729514e+04</td>\n",
       "      <td>2004.577997</td>\n",
       "      <td>115.549477</td>\n",
       "      <td>125618.688228</td>\n",
       "      <td>5.734445</td>\n",
       "      <td>0.0</td>\n",
       "      <td>50820.66764</td>\n",
       "    </tr>\n",
       "    <tr>\n",
       "      <th>std</th>\n",
       "      <td>3.587954e+06</td>\n",
       "      <td>92.866598</td>\n",
       "      <td>192.139578</td>\n",
       "      <td>40112.337051</td>\n",
       "      <td>3.712412</td>\n",
       "      <td>0.0</td>\n",
       "      <td>25799.08247</td>\n",
       "    </tr>\n",
       "    <tr>\n",
       "      <th>min</th>\n",
       "      <td>0.000000e+00</td>\n",
       "      <td>1000.000000</td>\n",
       "      <td>0.000000</td>\n",
       "      <td>5000.000000</td>\n",
       "      <td>0.000000</td>\n",
       "      <td>0.0</td>\n",
       "      <td>1067.00000</td>\n",
       "    </tr>\n",
       "    <tr>\n",
       "      <th>25%</th>\n",
       "      <td>1.150000e+03</td>\n",
       "      <td>1999.000000</td>\n",
       "      <td>70.000000</td>\n",
       "      <td>125000.000000</td>\n",
       "      <td>3.000000</td>\n",
       "      <td>0.0</td>\n",
       "      <td>30459.00000</td>\n",
       "    </tr>\n",
       "    <tr>\n",
       "      <th>50%</th>\n",
       "      <td>2.950000e+03</td>\n",
       "      <td>2003.000000</td>\n",
       "      <td>105.000000</td>\n",
       "      <td>150000.000000</td>\n",
       "      <td>6.000000</td>\n",
       "      <td>0.0</td>\n",
       "      <td>49610.00000</td>\n",
       "    </tr>\n",
       "    <tr>\n",
       "      <th>75%</th>\n",
       "      <td>7.200000e+03</td>\n",
       "      <td>2008.000000</td>\n",
       "      <td>150.000000</td>\n",
       "      <td>150000.000000</td>\n",
       "      <td>9.000000</td>\n",
       "      <td>0.0</td>\n",
       "      <td>71546.00000</td>\n",
       "    </tr>\n",
       "    <tr>\n",
       "      <th>max</th>\n",
       "      <td>2.147484e+09</td>\n",
       "      <td>9999.000000</td>\n",
       "      <td>20000.000000</td>\n",
       "      <td>150000.000000</td>\n",
       "      <td>12.000000</td>\n",
       "      <td>0.0</td>\n",
       "      <td>99998.00000</td>\n",
       "    </tr>\n",
       "  </tbody>\n",
       "</table>\n",
       "</div>"
      ],
      "text/plain": [
       "              price  yearOfRegistration        powerPS      kilometer  \\\n",
       "count  3.715280e+05       371528.000000  371528.000000  371528.000000   \n",
       "mean   1.729514e+04         2004.577997     115.549477  125618.688228   \n",
       "std    3.587954e+06           92.866598     192.139578   40112.337051   \n",
       "min    0.000000e+00         1000.000000       0.000000    5000.000000   \n",
       "25%    1.150000e+03         1999.000000      70.000000  125000.000000   \n",
       "50%    2.950000e+03         2003.000000     105.000000  150000.000000   \n",
       "75%    7.200000e+03         2008.000000     150.000000  150000.000000   \n",
       "max    2.147484e+09         9999.000000   20000.000000  150000.000000   \n",
       "\n",
       "       monthOfRegistration  nrOfPictures    postalCode  \n",
       "count        371528.000000      371528.0  371528.00000  \n",
       "mean              5.734445           0.0   50820.66764  \n",
       "std               3.712412           0.0   25799.08247  \n",
       "min               0.000000           0.0    1067.00000  \n",
       "25%               3.000000           0.0   30459.00000  \n",
       "50%               6.000000           0.0   49610.00000  \n",
       "75%               9.000000           0.0   71546.00000  \n",
       "max              12.000000           0.0   99998.00000  "
      ]
     },
     "execution_count": 35,
     "metadata": {},
     "output_type": "execute_result"
    }
   ],
   "source": [
    "#discriptive statistics of the data\n",
    "cars_df.describe()"
   ]
  },
  {
   "attachments": {},
   "cell_type": "markdown",
   "metadata": {},
   "source": [
    "#### Investigate some of the variables"
   ]
  },
  {
   "cell_type": "code",
   "execution_count": 36,
   "metadata": {},
   "outputs": [
    {
     "name": "stdout",
     "output_type": "stream",
     "text": [
      "Unique values in 'gearbox' column:  ['manual' 'automatic' nan]\n",
      "Number of values in 'gearbox' column:  manual       274214\n",
      "automatic     77105\n",
      "Name: gearbox, dtype: int64\n"
     ]
    }
   ],
   "source": [
    "# Check unique values in 'gearbox' column\n",
    "print(\"Unique values in 'gearbox' column: \", cars_df['gearbox'].unique())\n",
    "\n",
    "# Check the gearbox values\n",
    "print(\"Number of values in 'gearbox' column: \", cars_df['gearbox'].value_counts())"
   ]
  },
  {
   "cell_type": "code",
   "execution_count": 37,
   "metadata": {},
   "outputs": [
    {
     "name": "stdout",
     "output_type": "stream",
     "text": [
      "Number of values in 'vehicleType' column:  limousine        95894\n",
      "small car        80023\n",
      "station wagon    67564\n",
      "bus              30201\n",
      "convertible      22898\n",
      "coupe            19015\n",
      "suv              14707\n",
      "other             3357\n",
      "Name: vehicleType, dtype: int64\n"
     ]
    }
   ],
   "source": [
    "#check the vehicle type values\n",
    "print(\"Number of values in 'vehicleType' column: \", cars_df['vehicleType'].value_counts())"
   ]
  },
  {
   "cell_type": "code",
   "execution_count": 38,
   "metadata": {},
   "outputs": [
    {
     "name": "stdout",
     "output_type": "stream",
     "text": [
      "Number of values in 'manufacturer' column:  volkswagen       79640\n",
      "bmw              40274\n",
      "opel             40136\n",
      "mercedes_benz    35309\n",
      "audi             32873\n",
      "ford             25573\n",
      "renault          17969\n",
      "peugeot          11027\n",
      "fiat              9676\n",
      "seat              7022\n",
      "mazda             5695\n",
      "skoda             5641\n",
      "smart             5249\n",
      "citroen           5182\n",
      "nissan            5037\n",
      "Name: brand, dtype: int64\n"
     ]
    }
   ],
   "source": [
    "#check the manufacturer values\n",
    "print(\"Number of values in 'manufacturer' column: \", cars_df['brand'].value_counts().nlargest(15))"
   ]
  },
  {
   "cell_type": "code",
   "execution_count": 39,
   "metadata": {},
   "outputs": [
    {
     "name": "stdout",
     "output_type": "stream",
     "text": [
      "Unique values in 'seller' column:  ['private' 'dealer']\n",
      "private    371525\n",
      "dealer          3\n",
      "Name: seller, dtype: int64\n"
     ]
    }
   ],
   "source": [
    "# Check unique values in 'seller' column\n",
    "print(\"Unique values in 'seller' column: \", cars_df['seller'].unique())\n",
    "\n",
    "print(cars_df['seller'].value_counts())"
   ]
  },
  {
   "cell_type": "code",
   "execution_count": 43,
   "metadata": {},
   "outputs": [
    {
     "name": "stdout",
     "output_type": "stream",
     "text": [
      "Earliest registration year:  1000\n",
      "Latest registration year:  9999\n",
      "Earliest registration month:  0\n",
      "Latest registration month:  12\n"
     ]
    }
   ],
   "source": [
    "# Check for unusual values in yearOfRegistration\n",
    "print(\"Earliest registration year: \", cars_df[\"yearOfRegistration\"].min())\n",
    "print(\"Latest registration year: \", cars_df[\"yearOfRegistration\"].max())\n",
    "\n",
    "# Check for unusual values in monthOfRegistration\n",
    "print(\"Earliest registration month: \", cars_df[\"monthOfRegistration\"].min())\n",
    "print(\"Latest registration month: \", cars_df[\"monthOfRegistration\"].max())\n"
   ]
  },
  {
   "attachments": {},
   "cell_type": "markdown",
   "metadata": {},
   "source": [
    "### Notes on data\n"
   ]
  },
  {
   "attachments": {},
   "cell_type": "markdown",
   "metadata": {},
   "source": [
    "#### Data issues"
   ]
  },
  {
   "cell_type": "markdown",
   "metadata": {},
   "source": []
  }
 ],
 "metadata": {
  "kernelspec": {
   "display_name": "base",
   "language": "python",
   "name": "python3"
  },
  "language_info": {
   "codemirror_mode": {
    "name": "ipython",
    "version": 3
   },
   "file_extension": ".py",
   "mimetype": "text/x-python",
   "name": "python",
   "nbconvert_exporter": "python",
   "pygments_lexer": "ipython3",
   "version": "3.10.9"
  },
  "vscode": {
   "interpreter": {
    "hash": "87203316b084d3ca1141c4d9b5ecb777280863bae4243caf5b0fa66613526547"
   }
  }
 },
 "nbformat": 4,
 "nbformat_minor": 2
}
